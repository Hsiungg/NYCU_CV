{
 "cells": [
  {
   "cell_type": "code",
   "execution_count": 14,
   "id": "2142c758",
   "metadata": {},
   "outputs": [],
   "source": [
    "from pycocotools.coco import COCO\n",
    "import skimage.io as io\n",
    "import matplotlib.pyplot as plt\n",
    "from pathlib import Path\n",
    "from PIL import Image"
   ]
  },
  {
   "cell_type": "code",
   "execution_count": 15,
   "id": "cadeef57",
   "metadata": {},
   "outputs": [
    {
     "name": "stdout",
     "output_type": "stream",
     "text": [
      "loading annotations into memory...\n",
      "Done (t=1.20s)\n",
      "creating index...\n",
      "index created!\n",
      "['0030fd0e6378', '0140b3c8f445', '01ae5a43a2ab', '026b3c2c4b32', '029e5b3b89c7', '0323e81d23d9', '03b27b381a5f', '042c17cd9143', '042dc0e561a4', '04928f0866b0', '049f02e0f764', '04cd81dfb245', '053d61766edb', '05c61f0f46b7', '061b49d7dbbb', '06c5740c8b18', '0728b8f39241', '07e9ba109e34', '083b178bb184', '085eb8fec206', '08f52aa2add3', '097d60b2cf71', '0a6ecc5fe78a', '0ba181d412da', '0c5938ac5e3c', '0c90b86742b2', '0cfdeeb0dded', '0df9d6419078', '0e1e2b68fa58', '0e9b40b10de8', '0ea6df67cc77', '0eb1d03df587', '0eca9ecf4987', '0f08d640930b', '0f2a46026693', '0f7d009bc5d3', '100681b6cc7a', '115fad550598', '11c136be56b7', '11c2e4fcac6d', '1242e4ec6ef3', '129f894abe35', '13325f865bb0', '1395c3f12b7c', '144a7a69f67d', '14dbd973a7cd', '15283b194621', '152bcf26456b', '15aeb12e7a83', '16e538bbe8c5', '172334437c88', '174793807517', '17754cb5b287', '17d738f88487', '182c3da676bd', '1874b96fd317', '18d5d665a6af', '194f7e69779b', '1974fbb27dcf', '198593a55b7a', '1b539d8a8897', '1bf60e3be6ce', '1c10ee85de67', '1c16d5cb1f30', '1c4f14cce8ee', '1c60d7a7695d', '1cc3b45e0399', '1ce663c98a16', '1d2396667910', '1d2ca29fef3e', '1d618b80769f', '1d8ea1f865e0', '1d9cf05975eb', '1de9612cb6e1', '1e55de6c2a34', '1e60fc475228', '1e7ac54a9422', '1ea4e44e5497', '1ef6aaa62132', '1f81ad0e1fb6', '1f8ff922773c', '2025512a5956', '20598fa21a3d', '2099abcae734', '20dc08f66f3f', '213f5c108080', '21b1ae35bd39', '22e0c43da285', '232c47d31333', '235f6d2095c9', '2384e7378d16', '23e6d1174f47', '242de8187041', '24a07145b24d', '24ed4b9f417d', '25559c20c6f3', '25c4b29d2189', '25fc36476862', '25fd50629a5c', '26d58ec4353a', '26efe388938c', '279107cc7fe4', '27f4ea4dd04f', '286415b46ebb', '296926b5656b', '29dfe87f3a44', '29efe1120825', '2be2ec84ac11', '2c2cb870da85', '2c7b7d0a1573', '2cab2cb161a4', '2d8810967b36', '2d9fd17da790', '2dbfcf0fc496', '2dc940ff1a71', '2e8a61b4f6b5', '2f1b9aea78d7', '303e22f9ccd3', '309be9da24d7', '315b21b955c6', '31e4fa0a83f4', '34b6c5235ab4', '34bd8ce0c802', '34e41956f993', '358c8b7a8204', '35fc12883459', '3625dabdf452', '364feb876754', '36855e37531a', '36e480c65aed', '37dd4dd6e76e', '3912a0bede5b', '393c8540c6fa', '3ac59a41a300', '3b3991c64f38', '3b56cced208e', '3b70c0fef171', '3bcc8ba1dc17', '3be8cce336d0', '3c270e8e347a', '3cb9d7266ea1', '3dd0e512b579', '3e0a07a7dcfc', '3f14453053d4', '3f29e529f210', '3f6e72d6647d', '40d3650f4985', '40db2225676e', '40fddf5f9595', '411a7b067dcc', '418853314d5b', '41a1f09b4f4e', '41c57fe26957', '42d8ecbc95a1', '4318b7f15a71', '4378ec854810', '43d929bd6429', '4425efbbacfc', '446cf8ba65e5', '44752904b4d5', '44a154410273', '44c353126f35', '44e1c6996c16', '4551bb9de3fa', '45a1f06614f0', '45b966b60d4b', '4698edfd5878', '46b08b7eee99', '478a2c53f075', '47c3b766d82e', '47fb5fcff2de', '4810ddb4229c', '48383b66ebd5', '48a750fc02a2', '4984db4ec8f3', '499a225c835d', '49d4a04f398c', '4b21aa9b6c84', '4b6ba2567ab0', '4b701c599d33', '4b8dc9c901a6', '4bdf75f87261', '4c744a767648', '4c98ec6b42aa', '4cd85ba270d0', '4cef27c8f779', '4cf637b37b8b', '4cf8f24c2b17', '4d52c84bfe79', '4de92f67c5b8', '4e115eccc68c', '4e360cb49ae4', '4e99b18bf20f', '4ec5008ab318', '4f9f9b90a3c1', '508d39dcc9ef', '517648559341', '51c920fcd542', '5286d9ca0f92', '529f53145d75', '52a2e248d75b', '52e810d1f2f0', '52ea449bc02d', '52f65c9194c0', '539f24ebc61d', '541ab846bcb0', '541d7fd43b66', '549d34aaf226', '5507c81bdcb6', '551738f39e65', '559904fcd4a2', '563435d64260', '568a4f5d0593', '56b8cad4f8e7', '56e473c7c793', '56e62b1803c4', '576c680c66c7', '57bc63239549', '5863bf795692', '588931a27780', '58b543a236c8', '59833fe3d0f9', '59eecb1504fa', '5a05cc33a43d', '5a880b2b403e', '5b0469b7bd04', '5b8e5ee1ec61', '5bbf4c20aad2', '5bc68ac7426e', '5c252798d269', '5c4f72978ff6', '5c84424f601c', '5d066f4c3eef', '5d57448ab949', '5df720a4fad6', '5e04f48d34e3', '5e9130834984', '5eb16b1cf176', '6064a286cbf3', '606831bd2dd2', '60a7ba541038', '619f91a5c197', '6244275a0951', '624d50b5bfd1', '625c65b50aa1', '626f74f1e5f6', '630bac646b5a', '63dbe67dbab4', '642d9cbe7f15', '66a902c45432', '6725005514cc', '680c18cb5fea', '68141f4dacd7', '6867e380fe3c', '68780361eded', '6955df3e6c27', '6955f473e6f5', '699757ca44a7', '6a119b8773c6', '6a71d6253a42', '6b165d790e33', '6b2f2fab222f', '6b6f2ee6467a', '6d9c64988769', '6e8c9b707724', '6f90a53cf326', '704f269a8415', '70a94f058409', '71d6e508abdc', '724097951299', '729cc4463650', '72d38d5c6be1', '73c45accba88', '73df2962444f', '741edb5bb8f5', '74a506f1d7e8', '74bb773bab01', '74eba54b3ae5', '7570dd2d34bb', '757253a07cd3', '75a735d52727', '75bcf651967e', '762d6b2ee6da', '76ad9ac01e2d', '76f6eb941d56', '77f5123c8582', '78440cb4b47d', '7898358115a7', '795651f7b04a', '798c6a9ca18c', '79b77c62a9f3', '79c353271ce9', '79d271434d64', '7ab1bc1c47f1', '7ad870da5a63', '7b27ca965a93', '7b2818817d0d', '7b67cd233fcd', '7c118cb496f7', '7ca93f81e669', '7cc6beb96b81', '7d13efbfce6d', '7d3174bf78a1', '7d357c4f7438', '7d45ca9a700d', '7d59ab1d21a2', '7e30fccf0a91', '7f21996da2e6', '7f27bcdc5e5d', '8050704a02eb', '8122040d9ecd', '815de003cb5b', '82a96cda2a44', '82c638427f2f', '836e5872684a', '84318d167a6c', '844ca72ea4c0', '8501cf5525d4', '853026457c51', '8541146e15d9', '856cbd30d034', '85cbc2e3905e', '8650b0110eb6', '86be12afefb6', '874f3f4e1e6b', '875775b0a33f', '878db7a5ab51', '87a052b69db0', '87aabe7ab3a5', '87e2b185e074', '88203fd2557d', '8917c2f4445e', '8966df7b976b', '89dceefff181', '8a60bdad42ff', '8a754409504b', '8ae77a7c490c', '8b6d3ad0fb2d', '8bcc2ef2e81e', '8bd09ff70b13', '8c90ed01dfa0', '8cc78aff9cc6', '8d0f8970d171', '8e2b69117149', '8e7199072220', '8f276651b26c', '8f6d3deadc55', '90016c8865d3', '903d94c69354', '90a3e24b62b0', '919748e5c24c', '91b6e6e0d84d', '91c06d4f10df', '930015180836', '930699898b1c', '9379e29d719d', '93ba6784a818', '93ce48e5227c', '94198e5b42a4', '957d8951b270', '95ac5f4182fa', '95de75855f80', '95e46e2b296f', '960479eea44e', '96304c6e06eb', '96b7471ba87d', '97b66f10b9f5', '98fd9ed43654', '996aad57d020', '9a065ab4fae7', '9ae06a9d5011', '9ae46e01286c', '9b362a5983ae', '9b6b19ec0736', '9bc9775ee371', '9c0f16816345', '9c4661d1509c', '9c7e1ff93090', '9cfd6ebebc94', '9d23373b7bf8', '9e2bc2d20e43', '9e8da786a80f', '9f1c2cfc936f', 'a049e2a265cf', 'a0ee7192f838', 'a136a96476b3', 'a162768bcf04', 'a1aab9d6b6b2', 'a1ff383ad7ff', 'a28407ce196e', 'a55a105360b8', 'a55cec7ee7a1', 'a686c4329d91', 'a71bd3fbf8f1', 'a75cdb426a8e', 'a76fe4d00355', 'a7b1db2a42fc', 'a85fbc42127a', 'a87eed6346d5', 'a96cf05207fc', 'a97d5689d4c2', 'a9cf3efd023a', 'a9fc5e872671', 'aa2e2c09a57b', 'ab00526e7901', 'abd3833b5ac1', 'ac12dab88a3d', 'ac877991fa24', 'aca02da8ef58', 'ad12c1357f63', 'ad30ecfc1682', 'ad41b4c2bf73', 'adbaf2416db2', 'adfd16bee70c', 'ae1509f591ce', 'ae3baa051773', 'ae509c50607a', 'af47d104aa7e', 'af54fcc34740', 'af6ae867fe6e', 'af890034c1b6', 'afbcea22fc2a', 'aff8fb4fc364', 'b03de5cbebb2', 'b0a5b4340364', 'b0c3bd326249', 'b1687f869c0a', 'b1cc1e8aeecd', 'b208a1b645a1', 'b29b7cb8c7e4', 'b2a7f3d06a50', 'b307d66eb656', 'b3990528329c', 'b4713c32ddbb', 'b50a98297c83', 'b53a3bfd3bd0', 'b5afaf901478', 'b66e76eb1f3f', 'b684e5076578', 'b81db12284ff', 'b861811eaff6', 'b867d9f2d373', 'b8759ed1bf33', 'b89f9cca5384', 'b9056ac30b4b', 'ba9dd157fb69', 'bb3520da4cce', 'bc0b9c1ff4dc', 'bcf94f6bc975', 'be85d2d45959', 'bebd2d51a0d0', 'bee779e5729d', 'bf44c49ba659', 'bfb878cd992e', 'c019b279bed8', 'c0b82bc0600d', 'c0dff5f1af2f', 'c17eac09ff70', 'c1a8710f13a5', 'c1f3e3b31108', 'c25db38e918e', 'c362cb822d6b', 'c3b32460bcba', 'c4121689002f', 'c48e1469ac98', 'c4dc7ddff8ec', 'c5be3066e673', 'c67dd29ad915', 'c6981f294012', 'c6a9863504da', 'c7b6b79d6276', 'c7cb35a80237', 'c8522b0f2063', 'c8607b0581bf', 'c895cf319088', 'c97cc03675c7', 'c98b451417f7', 'c9c3465d8941', 'c9d4c2430d92', 'c9e81c79ca72', 'ca167f336091', 'ca5df17f6717', 'caa06f9a4057', 'cb07e23f138a', 'cc40345857dd', 'cc8526acd4fe', 'cca71932b689', 'ccf6e108fb22', 'ce453794c74d', 'ce5d0de993bd', 'cfe901b30e8d', 'd0747a9ed004', 'd08ec01979f3', 'd09291445961', 'd132b291f6cc', 'd14e4fe1fef1', 'd164e96bb7a9', 'd1d1ca1bfb8a', 'd1db733a1edd', 'd21676dcf3a2', 'd248e894403c', 'd28e67c1ad17', 'd3bd573a3dc4', 'd3d272e75cdb', 'd575336b8f7a', 'd5a2e9d0e602', 'd5c06777eee7', 'd62093ffe38d', 'd75d5d14fdcb', 'd7aa803f5b5f', 'd7f8c3d595e9', 'd81712416572', 'd8353ec73bdf', 'd8fc6dd956f8', 'd914af4080bb', 'd96878ba3ab6', 'd97922f1d446', 'dac9a173832d', 'db5260527117', 'db5ad777646f', 'db8bc8f09776', 'dc18ef9b49f5', 'dc6beb2a50a9', 'dd8bcbe5094b', 'de35454a3346', 'de504eaa5349', 'de72de636483', 'dead8d6e0ea8', 'df54ca550ecd', 'e013dbefe5c4', 'e0ad75ccddab', 'e103a3e85a46', 'e1140f76536a', 'e117dfd2ae8b', 'e1e10dd96535', 'e201f565a7d8', 'e29015d36459', 'e2fc3f4577e2', 'e33d521aa9de', 'e33da393df22', 'e41558ca4bae', 'e460317d8ca9', 'e4632744011e', 'e4f28f1ea4ee', 'e52789a0a1f5', 'e57626198284', 'e5937076f423', 'e6a4f5e6d65d', 'e6aff490e966', 'e748ac1c469b', 'e767fd549540', 'e76b2a9735f8', 'e856f45ec69e', 'e8ae919aa92e', 'e92c56871769', 'e96b5ddfef20', 'e97e043aa093', 'e9edcd9483e4', 'ea362f1a9844', 'eac668a9ea37', 'eb9c10862d4e', 'ebaa75979438', 'ebffbf1cfe00', 'ec1d0a62b17c', 'ec5b56d79061', 'ececc1fe265d', 'ed0fcca57fe8', 'edbb15612a94', 'ee6d4d0a17b6', 'ee6ddcdc19ce', 'eec79772cb99', 'ef866d97431e', 'efdf3822846c', 'efec0322798a', 'f00798e9b1eb', 'f0111570ede9', 'f0e54d645fe5', 'f17f964687b3', 'f1fafe9e540f', 'f25af915d4e8', 'f2d0421bcc7b', 'f2e0ce316b7e', 'f357b9dabe13', 'f3b46561d429', 'f40567565202', 'f41cd55e692d', 'f555eba5ddc5', 'f64c628ef828', 'f653c5eec0f8', 'f6abc09eb12f', 'f6e7e998a190', 'f717a5f6d473', 'f7343d843bbd', 'f7450aa3df7f', 'f76d1d2d5405', 'f843561f9e18', 'f8902ee8890c', 'f982188d7249', 'faa16dd8abd3', 'fac5fa0dd448', 'fbb4fbe7100d', 'fd98d82784a1', 'fe33dfcf4ebd', 'fe3e30f849f4', 'ffc2ead3e8cc', 'ffdb3cc02eef']\n",
      "[{'id': 'fe3e30f849f4', 'width': 704, 'height': 520, 'file_name': 'train/fe3e30f849f4.png'}, {'id': 'ffc2ead3e8cc', 'width': 704, 'height': 520, 'file_name': 'train/ffc2ead3e8cc.png'}, {'id': 'ffdb3cc02eef', 'width': 704, 'height': 520, 'file_name': 'train/ffdb3cc02eef.png'}]\n"
     ]
    }
   ],
   "source": [
    "# dataDir=Path('../input/sartorius-cell-instance-segmentation')\n",
    "annFile = Path('annotations_all.json')\n",
    "coco = COCO(annFile)\n",
    "imgIds = coco.getImgIds()\n",
    "imgs = coco.loadImgs(imgIds[-3:])\n",
    "print(imgIds)\n",
    "print(imgs)"
   ]
  },
  {
   "cell_type": "code",
   "execution_count": 16,
   "id": "668de751",
   "metadata": {},
   "outputs": [
    {
     "name": "stdout",
     "output_type": "stream",
     "text": [
      "0030fd0e6378\n",
      "520\n"
     ]
    }
   ],
   "source": [
    "print(imgIds[0])\n",
    "i = 0\n",
    "print(coco.loadImgs(imgIds[i:i+1])[0]['height'])"
   ]
  },
  {
   "cell_type": "code",
   "execution_count": null,
   "id": "b91d798b",
   "metadata": {},
   "outputs": [
    {
     "name": "stdout",
     "output_type": "stream",
     "text": [
      "已處理 50/606 張圖片\n",
      "已處理 100/606 張圖片\n",
      "已處理 150/606 張圖片\n",
      "已處理 200/606 張圖片\n"
     ]
    }
   ],
   "source": [
    "import numpy as np\n",
    "from pycocotools import mask as maskUtils\n",
    "image_instance_masks = {}\n",
    "for i in range(len(imgIds)):\n",
    "    img_info  = coco.loadImgs(imgIds[i:i+1])[0]\n",
    "    image_shape = (img_info['height'], img_info['width'])\n",
    "    image_id_str = str(img_info['id'])\n",
    "    \n",
    "    ann_ids = coco.getAnnIds(imgIds=[image_id_str], iscrowd=False)\n",
    "    # print(ann_ids)\n",
    "    \n",
    "    if not ann_ids:\n",
    "        image_instance_masks[image_id_str] = np.zeros(image_shape, dtype=np.uint16)\n",
    "\n",
    "    annotations = coco.loadAnns(ann_ids)\n",
    "    instance_mask_image = np.zeros(image_shape, dtype=np.uint16)\n",
    "    instance_id_counter = 1\n",
    "\n",
    "    for ann in annotations:\n",
    "        ann_id = ann.get('id', 'N/A')\n",
    "        rle = ann['segmentation']\n",
    "        rle = maskUtils.frPyObjects(rle, rle['size'][0], rle['size'][1])\n",
    "        # print(rle)\n",
    "\n",
    "        single_cell_binary_mask = None\n",
    "        single_cell_binary_mask = maskUtils.decode(rle)\n",
    "\n",
    "        binary_mask = maskUtils.decode(rle)\n",
    "        instance_mask_image[binary_mask == 1] = instance_id_counter\n",
    "        instance_id_counter += 1\n",
    "\n",
    "    image_instance_masks[image_id_str] = instance_mask_image\n",
    "\n",
    "    # 印出進度\n",
    "    if (i + 1) % 50 == 0 or (i + 1) == len(imgIds):\n",
    "        print(f\"已處理 {i + 1}/{len(imgIds)} 張圖片\")\n",
    "np.save(\"all_instance_masks.npy\", image_instance_masks)"
   ]
  }
 ],
 "metadata": {
  "kernelspec": {
   "display_name": "NYCU_VRDL",
   "language": "python",
   "name": "python3"
  },
  "language_info": {
   "codemirror_mode": {
    "name": "ipython",
    "version": 3
   },
   "file_extension": ".py",
   "mimetype": "text/x-python",
   "name": "python",
   "nbconvert_exporter": "python",
   "pygments_lexer": "ipython3",
   "version": "3.11.11"
  }
 },
 "nbformat": 4,
 "nbformat_minor": 5
}
